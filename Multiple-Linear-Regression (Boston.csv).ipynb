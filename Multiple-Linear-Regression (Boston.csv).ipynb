{
 "cells": [
  {
   "cell_type": "code",
   "execution_count": 1,
   "id": "a3e10c89",
   "metadata": {},
   "outputs": [],
   "source": [
    "import pandas as pd\n",
    "import numpy as np\n",
    "import matplotlib.pyplot as plt\n",
    "import seaborn as sns\n",
    "from sklearn.model_selection import train_test_split\n",
    "from sklearn.feature_selection import f_regression, SelectKBest\n",
    "from sklearn.linear_model import LinearRegression\n",
    "from sklearn.metrics import r2_score, mean_squared_error"
   ]
  },
  {
   "cell_type": "code",
   "execution_count": 2,
   "id": "4f409078",
   "metadata": {},
   "outputs": [],
   "source": [
    "df=pd.read_csv(\"C:/Users/SAMHITA/OneDrive/Desktop/SEM-2/Indrani Mam/Boston.csv\")"
   ]
  },
  {
   "cell_type": "code",
   "execution_count": 3,
   "id": "17a21d44",
   "metadata": {},
   "outputs": [],
   "source": [
    "X = df.iloc[:,1:14]\n",
    "y = df.iloc[:,-1]"
   ]
  },
  {
   "cell_type": "code",
   "execution_count": 4,
   "id": "7f9ba05f",
   "metadata": {},
   "outputs": [
    {
     "data": {
      "text/html": [
       "<div>\n",
       "<style scoped>\n",
       "    .dataframe tbody tr th:only-of-type {\n",
       "        vertical-align: middle;\n",
       "    }\n",
       "\n",
       "    .dataframe tbody tr th {\n",
       "        vertical-align: top;\n",
       "    }\n",
       "\n",
       "    .dataframe thead th {\n",
       "        text-align: right;\n",
       "    }\n",
       "</style>\n",
       "<table border=\"1\" class=\"dataframe\">\n",
       "  <thead>\n",
       "    <tr style=\"text-align: right;\">\n",
       "      <th></th>\n",
       "      <th>crim</th>\n",
       "      <th>zn</th>\n",
       "      <th>indus</th>\n",
       "      <th>chas</th>\n",
       "      <th>nox</th>\n",
       "      <th>rm</th>\n",
       "      <th>age</th>\n",
       "      <th>dis</th>\n",
       "      <th>rad</th>\n",
       "      <th>tax</th>\n",
       "      <th>ptratio</th>\n",
       "      <th>black</th>\n",
       "      <th>lstat</th>\n",
       "    </tr>\n",
       "  </thead>\n",
       "  <tbody>\n",
       "    <tr>\n",
       "      <th>0</th>\n",
       "      <td>0.00632</td>\n",
       "      <td>18.0</td>\n",
       "      <td>2.31</td>\n",
       "      <td>0</td>\n",
       "      <td>0.538</td>\n",
       "      <td>6.575</td>\n",
       "      <td>65.2</td>\n",
       "      <td>4.0900</td>\n",
       "      <td>1</td>\n",
       "      <td>296</td>\n",
       "      <td>15.3</td>\n",
       "      <td>396.90</td>\n",
       "      <td>4.98</td>\n",
       "    </tr>\n",
       "    <tr>\n",
       "      <th>1</th>\n",
       "      <td>0.02731</td>\n",
       "      <td>0.0</td>\n",
       "      <td>7.07</td>\n",
       "      <td>0</td>\n",
       "      <td>0.469</td>\n",
       "      <td>6.421</td>\n",
       "      <td>78.9</td>\n",
       "      <td>4.9671</td>\n",
       "      <td>2</td>\n",
       "      <td>242</td>\n",
       "      <td>17.8</td>\n",
       "      <td>396.90</td>\n",
       "      <td>9.14</td>\n",
       "    </tr>\n",
       "    <tr>\n",
       "      <th>2</th>\n",
       "      <td>0.02729</td>\n",
       "      <td>0.0</td>\n",
       "      <td>7.07</td>\n",
       "      <td>0</td>\n",
       "      <td>0.469</td>\n",
       "      <td>7.185</td>\n",
       "      <td>61.1</td>\n",
       "      <td>4.9671</td>\n",
       "      <td>2</td>\n",
       "      <td>242</td>\n",
       "      <td>17.8</td>\n",
       "      <td>392.83</td>\n",
       "      <td>4.03</td>\n",
       "    </tr>\n",
       "    <tr>\n",
       "      <th>3</th>\n",
       "      <td>0.03237</td>\n",
       "      <td>0.0</td>\n",
       "      <td>2.18</td>\n",
       "      <td>0</td>\n",
       "      <td>0.458</td>\n",
       "      <td>6.998</td>\n",
       "      <td>45.8</td>\n",
       "      <td>6.0622</td>\n",
       "      <td>3</td>\n",
       "      <td>222</td>\n",
       "      <td>18.7</td>\n",
       "      <td>394.63</td>\n",
       "      <td>2.94</td>\n",
       "    </tr>\n",
       "    <tr>\n",
       "      <th>4</th>\n",
       "      <td>0.06905</td>\n",
       "      <td>0.0</td>\n",
       "      <td>2.18</td>\n",
       "      <td>0</td>\n",
       "      <td>0.458</td>\n",
       "      <td>7.147</td>\n",
       "      <td>54.2</td>\n",
       "      <td>6.0622</td>\n",
       "      <td>3</td>\n",
       "      <td>222</td>\n",
       "      <td>18.7</td>\n",
       "      <td>396.90</td>\n",
       "      <td>5.33</td>\n",
       "    </tr>\n",
       "    <tr>\n",
       "      <th>...</th>\n",
       "      <td>...</td>\n",
       "      <td>...</td>\n",
       "      <td>...</td>\n",
       "      <td>...</td>\n",
       "      <td>...</td>\n",
       "      <td>...</td>\n",
       "      <td>...</td>\n",
       "      <td>...</td>\n",
       "      <td>...</td>\n",
       "      <td>...</td>\n",
       "      <td>...</td>\n",
       "      <td>...</td>\n",
       "      <td>...</td>\n",
       "    </tr>\n",
       "    <tr>\n",
       "      <th>501</th>\n",
       "      <td>0.06263</td>\n",
       "      <td>0.0</td>\n",
       "      <td>11.93</td>\n",
       "      <td>0</td>\n",
       "      <td>0.573</td>\n",
       "      <td>6.593</td>\n",
       "      <td>69.1</td>\n",
       "      <td>2.4786</td>\n",
       "      <td>1</td>\n",
       "      <td>273</td>\n",
       "      <td>21.0</td>\n",
       "      <td>391.99</td>\n",
       "      <td>9.67</td>\n",
       "    </tr>\n",
       "    <tr>\n",
       "      <th>502</th>\n",
       "      <td>0.04527</td>\n",
       "      <td>0.0</td>\n",
       "      <td>11.93</td>\n",
       "      <td>0</td>\n",
       "      <td>0.573</td>\n",
       "      <td>6.120</td>\n",
       "      <td>76.7</td>\n",
       "      <td>2.2875</td>\n",
       "      <td>1</td>\n",
       "      <td>273</td>\n",
       "      <td>21.0</td>\n",
       "      <td>396.90</td>\n",
       "      <td>9.08</td>\n",
       "    </tr>\n",
       "    <tr>\n",
       "      <th>503</th>\n",
       "      <td>0.06076</td>\n",
       "      <td>0.0</td>\n",
       "      <td>11.93</td>\n",
       "      <td>0</td>\n",
       "      <td>0.573</td>\n",
       "      <td>6.976</td>\n",
       "      <td>91.0</td>\n",
       "      <td>2.1675</td>\n",
       "      <td>1</td>\n",
       "      <td>273</td>\n",
       "      <td>21.0</td>\n",
       "      <td>396.90</td>\n",
       "      <td>5.64</td>\n",
       "    </tr>\n",
       "    <tr>\n",
       "      <th>504</th>\n",
       "      <td>0.10959</td>\n",
       "      <td>0.0</td>\n",
       "      <td>11.93</td>\n",
       "      <td>0</td>\n",
       "      <td>0.573</td>\n",
       "      <td>6.794</td>\n",
       "      <td>89.3</td>\n",
       "      <td>2.3889</td>\n",
       "      <td>1</td>\n",
       "      <td>273</td>\n",
       "      <td>21.0</td>\n",
       "      <td>393.45</td>\n",
       "      <td>6.48</td>\n",
       "    </tr>\n",
       "    <tr>\n",
       "      <th>505</th>\n",
       "      <td>0.04741</td>\n",
       "      <td>0.0</td>\n",
       "      <td>11.93</td>\n",
       "      <td>0</td>\n",
       "      <td>0.573</td>\n",
       "      <td>6.030</td>\n",
       "      <td>80.8</td>\n",
       "      <td>2.5050</td>\n",
       "      <td>1</td>\n",
       "      <td>273</td>\n",
       "      <td>21.0</td>\n",
       "      <td>396.90</td>\n",
       "      <td>7.88</td>\n",
       "    </tr>\n",
       "  </tbody>\n",
       "</table>\n",
       "<p>506 rows × 13 columns</p>\n",
       "</div>"
      ],
      "text/plain": [
       "        crim    zn  indus  chas    nox     rm   age     dis  rad  tax  \\\n",
       "0    0.00632  18.0   2.31     0  0.538  6.575  65.2  4.0900    1  296   \n",
       "1    0.02731   0.0   7.07     0  0.469  6.421  78.9  4.9671    2  242   \n",
       "2    0.02729   0.0   7.07     0  0.469  7.185  61.1  4.9671    2  242   \n",
       "3    0.03237   0.0   2.18     0  0.458  6.998  45.8  6.0622    3  222   \n",
       "4    0.06905   0.0   2.18     0  0.458  7.147  54.2  6.0622    3  222   \n",
       "..       ...   ...    ...   ...    ...    ...   ...     ...  ...  ...   \n",
       "501  0.06263   0.0  11.93     0  0.573  6.593  69.1  2.4786    1  273   \n",
       "502  0.04527   0.0  11.93     0  0.573  6.120  76.7  2.2875    1  273   \n",
       "503  0.06076   0.0  11.93     0  0.573  6.976  91.0  2.1675    1  273   \n",
       "504  0.10959   0.0  11.93     0  0.573  6.794  89.3  2.3889    1  273   \n",
       "505  0.04741   0.0  11.93     0  0.573  6.030  80.8  2.5050    1  273   \n",
       "\n",
       "     ptratio   black  lstat  \n",
       "0       15.3  396.90   4.98  \n",
       "1       17.8  396.90   9.14  \n",
       "2       17.8  392.83   4.03  \n",
       "3       18.7  394.63   2.94  \n",
       "4       18.7  396.90   5.33  \n",
       "..       ...     ...    ...  \n",
       "501     21.0  391.99   9.67  \n",
       "502     21.0  396.90   9.08  \n",
       "503     21.0  396.90   5.64  \n",
       "504     21.0  393.45   6.48  \n",
       "505     21.0  396.90   7.88  \n",
       "\n",
       "[506 rows x 13 columns]"
      ]
     },
     "execution_count": 4,
     "metadata": {},
     "output_type": "execute_result"
    }
   ],
   "source": [
    "X"
   ]
  },
  {
   "cell_type": "code",
   "execution_count": 5,
   "id": "cada435a",
   "metadata": {},
   "outputs": [
    {
     "data": {
      "text/plain": [
       "0      24.0\n",
       "1      21.6\n",
       "2      34.7\n",
       "3      33.4\n",
       "4      36.2\n",
       "       ... \n",
       "501    22.4\n",
       "502    20.6\n",
       "503    23.9\n",
       "504    22.0\n",
       "505    11.9\n",
       "Name: medv, Length: 506, dtype: float64"
      ]
     },
     "execution_count": 5,
     "metadata": {},
     "output_type": "execute_result"
    }
   ],
   "source": [
    "y"
   ]
  },
  {
   "cell_type": "code",
   "execution_count": 6,
   "id": "81cd5a29",
   "metadata": {},
   "outputs": [],
   "source": [
    "df.drop(['indus'],axis=1,inplace=True)"
   ]
  },
  {
   "cell_type": "code",
   "execution_count": 7,
   "id": "79ef7293",
   "metadata": {},
   "outputs": [
    {
     "name": "stdout",
     "output_type": "stream",
     "text": [
      "<class 'pandas.core.frame.DataFrame'>\n",
      "RangeIndex: 506 entries, 0 to 505\n",
      "Data columns (total 14 columns):\n",
      " #   Column      Non-Null Count  Dtype  \n",
      "---  ------      --------------  -----  \n",
      " 0   Unnamed: 0  506 non-null    int64  \n",
      " 1   crim        506 non-null    float64\n",
      " 2   zn          506 non-null    float64\n",
      " 3   chas        506 non-null    int64  \n",
      " 4   nox         506 non-null    float64\n",
      " 5   rm          506 non-null    float64\n",
      " 6   age         506 non-null    float64\n",
      " 7   dis         506 non-null    float64\n",
      " 8   rad         506 non-null    int64  \n",
      " 9   tax         506 non-null    int64  \n",
      " 10  ptratio     506 non-null    float64\n",
      " 11  black       506 non-null    float64\n",
      " 12  lstat       506 non-null    float64\n",
      " 13  medv        506 non-null    float64\n",
      "dtypes: float64(10), int64(4)\n",
      "memory usage: 55.5 KB\n"
     ]
    }
   ],
   "source": [
    "df.info()"
   ]
  },
  {
   "cell_type": "code",
   "execution_count": 8,
   "id": "d3686aa9",
   "metadata": {},
   "outputs": [
    {
     "data": {
      "text/plain": [
       "Unnamed: 0    0\n",
       "crim          0\n",
       "zn            0\n",
       "chas          0\n",
       "nox           0\n",
       "rm            0\n",
       "age           0\n",
       "dis           0\n",
       "rad           0\n",
       "tax           0\n",
       "ptratio       0\n",
       "black         0\n",
       "lstat         0\n",
       "medv          0\n",
       "dtype: int64"
      ]
     },
     "execution_count": 8,
     "metadata": {},
     "output_type": "execute_result"
    }
   ],
   "source": [
    "df.isnull().sum()"
   ]
  },
  {
   "cell_type": "code",
   "execution_count": 9,
   "id": "5753d028",
   "metadata": {},
   "outputs": [],
   "source": [
    "df.drop(['Unnamed: 0'],axis=1,inplace=True)"
   ]
  },
  {
   "cell_type": "code",
   "execution_count": 10,
   "id": "4a37e5ee",
   "metadata": {},
   "outputs": [],
   "source": [
    "# train test split\n",
    "\n",
    "X_train,X_test,y_train,y_test=train_test_split(X,y,test_size=.2,random_state=100)"
   ]
  },
  {
   "cell_type": "code",
   "execution_count": 11,
   "id": "b3718848",
   "metadata": {},
   "outputs": [],
   "source": [
    "# select top k features using f_regression\n",
    "selector = SelectKBest(f_regression, k=5)"
   ]
  },
  {
   "cell_type": "code",
   "execution_count": 12,
   "id": "824fec9b",
   "metadata": {},
   "outputs": [
    {
     "data": {
      "text/plain": [
       "array([[ 18.1  ,   6.223, 666.   ,  20.2  ,  21.78 ],\n",
       "       [  9.9  ,   6.122, 304.   ,  18.4  ,   5.98 ],\n",
       "       [ 19.58 ,   6.943, 403.   ,  14.7  ,   4.59 ],\n",
       "       ...,\n",
       "       [  7.38 ,   5.708, 287.   ,  19.6  ,  11.74 ],\n",
       "       [  3.33 ,   7.82 , 216.   ,  14.9  ,   3.76 ],\n",
       "       [  7.87 ,   5.631, 311.   ,  15.2  ,  29.93 ]])"
      ]
     },
     "execution_count": 12,
     "metadata": {},
     "output_type": "execute_result"
    }
   ],
   "source": [
    "selector.fit_transform(X_train,y_train)"
   ]
  },
  {
   "cell_type": "code",
   "execution_count": 13,
   "id": "b914c022",
   "metadata": {},
   "outputs": [],
   "source": [
    "X_new= selector.get_support(indices=True)"
   ]
  },
  {
   "cell_type": "code",
   "execution_count": 14,
   "id": "4246d24f",
   "metadata": {},
   "outputs": [
    {
     "data": {
      "text/plain": [
       "array([ 2,  5,  9, 10, 12], dtype=int64)"
      ]
     },
     "execution_count": 14,
     "metadata": {},
     "output_type": "execute_result"
    }
   ],
   "source": [
    "X_new"
   ]
  },
  {
   "cell_type": "code",
   "execution_count": 15,
   "id": "ae6b9932",
   "metadata": {},
   "outputs": [
    {
     "name": "stdout",
     "output_type": "stream",
     "text": [
      "Selected feature columns: [ 2  5  9 10 12]\n"
     ]
    }
   ],
   "source": [
    "# Print the indices of the selected feature columns\n",
    "print(\"Selected feature columns:\",X_new)"
   ]
  },
  {
   "cell_type": "code",
   "execution_count": 16,
   "id": "8b6ce16b",
   "metadata": {},
   "outputs": [],
   "source": [
    "# Extract selected feature names\n",
    "selected_names = X.columns[selector.get_support()]"
   ]
  },
  {
   "cell_type": "code",
   "execution_count": 17,
   "id": "25801525",
   "metadata": {},
   "outputs": [
    {
     "data": {
      "text/plain": [
       "Index(['indus', 'rm', 'tax', 'ptratio', 'lstat'], dtype='object')"
      ]
     },
     "execution_count": 17,
     "metadata": {},
     "output_type": "execute_result"
    }
   ],
   "source": [
    "selected_names"
   ]
  },
  {
   "cell_type": "code",
   "execution_count": 18,
   "id": "d83b45b5",
   "metadata": {},
   "outputs": [],
   "source": [
    "X_selected=X_train.iloc[:,X_new]"
   ]
  },
  {
   "cell_type": "code",
   "execution_count": 19,
   "id": "105b8c12",
   "metadata": {},
   "outputs": [
    {
     "data": {
      "text/html": [
       "<div>\n",
       "<style scoped>\n",
       "    .dataframe tbody tr th:only-of-type {\n",
       "        vertical-align: middle;\n",
       "    }\n",
       "\n",
       "    .dataframe tbody tr th {\n",
       "        vertical-align: top;\n",
       "    }\n",
       "\n",
       "    .dataframe thead th {\n",
       "        text-align: right;\n",
       "    }\n",
       "</style>\n",
       "<table border=\"1\" class=\"dataframe\">\n",
       "  <thead>\n",
       "    <tr style=\"text-align: right;\">\n",
       "      <th></th>\n",
       "      <th>indus</th>\n",
       "      <th>rm</th>\n",
       "      <th>tax</th>\n",
       "      <th>ptratio</th>\n",
       "      <th>lstat</th>\n",
       "    </tr>\n",
       "  </thead>\n",
       "  <tbody>\n",
       "    <tr>\n",
       "      <th>379</th>\n",
       "      <td>18.10</td>\n",
       "      <td>6.223</td>\n",
       "      <td>666</td>\n",
       "      <td>20.2</td>\n",
       "      <td>21.78</td>\n",
       "    </tr>\n",
       "    <tr>\n",
       "      <th>311</th>\n",
       "      <td>9.90</td>\n",
       "      <td>6.122</td>\n",
       "      <td>304</td>\n",
       "      <td>18.4</td>\n",
       "      <td>5.98</td>\n",
       "    </tr>\n",
       "    <tr>\n",
       "      <th>157</th>\n",
       "      <td>19.58</td>\n",
       "      <td>6.943</td>\n",
       "      <td>403</td>\n",
       "      <td>14.7</td>\n",
       "      <td>4.59</td>\n",
       "    </tr>\n",
       "    <tr>\n",
       "      <th>244</th>\n",
       "      <td>5.86</td>\n",
       "      <td>5.593</td>\n",
       "      <td>330</td>\n",
       "      <td>19.1</td>\n",
       "      <td>12.50</td>\n",
       "    </tr>\n",
       "    <tr>\n",
       "      <th>56</th>\n",
       "      <td>0.74</td>\n",
       "      <td>6.383</td>\n",
       "      <td>313</td>\n",
       "      <td>17.3</td>\n",
       "      <td>5.77</td>\n",
       "    </tr>\n",
       "    <tr>\n",
       "      <th>...</th>\n",
       "      <td>...</td>\n",
       "      <td>...</td>\n",
       "      <td>...</td>\n",
       "      <td>...</td>\n",
       "      <td>...</td>\n",
       "    </tr>\n",
       "    <tr>\n",
       "      <th>343</th>\n",
       "      <td>3.78</td>\n",
       "      <td>6.696</td>\n",
       "      <td>370</td>\n",
       "      <td>17.6</td>\n",
       "      <td>7.18</td>\n",
       "    </tr>\n",
       "    <tr>\n",
       "      <th>359</th>\n",
       "      <td>18.10</td>\n",
       "      <td>6.112</td>\n",
       "      <td>666</td>\n",
       "      <td>20.2</td>\n",
       "      <td>12.67</td>\n",
       "    </tr>\n",
       "    <tr>\n",
       "      <th>323</th>\n",
       "      <td>7.38</td>\n",
       "      <td>5.708</td>\n",
       "      <td>287</td>\n",
       "      <td>19.6</td>\n",
       "      <td>11.74</td>\n",
       "    </tr>\n",
       "    <tr>\n",
       "      <th>280</th>\n",
       "      <td>3.33</td>\n",
       "      <td>7.820</td>\n",
       "      <td>216</td>\n",
       "      <td>14.9</td>\n",
       "      <td>3.76</td>\n",
       "    </tr>\n",
       "    <tr>\n",
       "      <th>8</th>\n",
       "      <td>7.87</td>\n",
       "      <td>5.631</td>\n",
       "      <td>311</td>\n",
       "      <td>15.2</td>\n",
       "      <td>29.93</td>\n",
       "    </tr>\n",
       "  </tbody>\n",
       "</table>\n",
       "<p>404 rows × 5 columns</p>\n",
       "</div>"
      ],
      "text/plain": [
       "     indus     rm  tax  ptratio  lstat\n",
       "379  18.10  6.223  666     20.2  21.78\n",
       "311   9.90  6.122  304     18.4   5.98\n",
       "157  19.58  6.943  403     14.7   4.59\n",
       "244   5.86  5.593  330     19.1  12.50\n",
       "56    0.74  6.383  313     17.3   5.77\n",
       "..     ...    ...  ...      ...    ...\n",
       "343   3.78  6.696  370     17.6   7.18\n",
       "359  18.10  6.112  666     20.2  12.67\n",
       "323   7.38  5.708  287     19.6  11.74\n",
       "280   3.33  7.820  216     14.9   3.76\n",
       "8     7.87  5.631  311     15.2  29.93\n",
       "\n",
       "[404 rows x 5 columns]"
      ]
     },
     "execution_count": 19,
     "metadata": {},
     "output_type": "execute_result"
    }
   ],
   "source": [
    "X_selected"
   ]
  },
  {
   "cell_type": "code",
   "execution_count": 20,
   "id": "de8c666a",
   "metadata": {},
   "outputs": [],
   "source": [
    "X_new_test=X_test.iloc[:,X_new]"
   ]
  },
  {
   "cell_type": "code",
   "execution_count": 21,
   "id": "d6485e37",
   "metadata": {},
   "outputs": [
    {
     "data": {
      "text/html": [
       "<div>\n",
       "<style scoped>\n",
       "    .dataframe tbody tr th:only-of-type {\n",
       "        vertical-align: middle;\n",
       "    }\n",
       "\n",
       "    .dataframe tbody tr th {\n",
       "        vertical-align: top;\n",
       "    }\n",
       "\n",
       "    .dataframe thead th {\n",
       "        text-align: right;\n",
       "    }\n",
       "</style>\n",
       "<table border=\"1\" class=\"dataframe\">\n",
       "  <thead>\n",
       "    <tr style=\"text-align: right;\">\n",
       "      <th></th>\n",
       "      <th>indus</th>\n",
       "      <th>rm</th>\n",
       "      <th>tax</th>\n",
       "      <th>ptratio</th>\n",
       "      <th>lstat</th>\n",
       "    </tr>\n",
       "  </thead>\n",
       "  <tbody>\n",
       "    <tr>\n",
       "      <th>198</th>\n",
       "      <td>1.52</td>\n",
       "      <td>7.274</td>\n",
       "      <td>329</td>\n",
       "      <td>12.6</td>\n",
       "      <td>6.62</td>\n",
       "    </tr>\n",
       "    <tr>\n",
       "      <th>229</th>\n",
       "      <td>6.20</td>\n",
       "      <td>6.552</td>\n",
       "      <td>307</td>\n",
       "      <td>17.4</td>\n",
       "      <td>3.76</td>\n",
       "    </tr>\n",
       "    <tr>\n",
       "      <th>502</th>\n",
       "      <td>11.93</td>\n",
       "      <td>6.120</td>\n",
       "      <td>273</td>\n",
       "      <td>21.0</td>\n",
       "      <td>9.08</td>\n",
       "    </tr>\n",
       "    <tr>\n",
       "      <th>31</th>\n",
       "      <td>8.14</td>\n",
       "      <td>6.072</td>\n",
       "      <td>307</td>\n",
       "      <td>21.0</td>\n",
       "      <td>13.04</td>\n",
       "    </tr>\n",
       "    <tr>\n",
       "      <th>315</th>\n",
       "      <td>9.90</td>\n",
       "      <td>5.705</td>\n",
       "      <td>304</td>\n",
       "      <td>18.4</td>\n",
       "      <td>11.50</td>\n",
       "    </tr>\n",
       "    <tr>\n",
       "      <th>...</th>\n",
       "      <td>...</td>\n",
       "      <td>...</td>\n",
       "      <td>...</td>\n",
       "      <td>...</td>\n",
       "      <td>...</td>\n",
       "    </tr>\n",
       "    <tr>\n",
       "      <th>166</th>\n",
       "      <td>19.58</td>\n",
       "      <td>7.929</td>\n",
       "      <td>403</td>\n",
       "      <td>14.7</td>\n",
       "      <td>3.70</td>\n",
       "    </tr>\n",
       "    <tr>\n",
       "      <th>401</th>\n",
       "      <td>18.10</td>\n",
       "      <td>6.343</td>\n",
       "      <td>666</td>\n",
       "      <td>20.2</td>\n",
       "      <td>20.32</td>\n",
       "    </tr>\n",
       "    <tr>\n",
       "      <th>368</th>\n",
       "      <td>18.10</td>\n",
       "      <td>4.970</td>\n",
       "      <td>666</td>\n",
       "      <td>20.2</td>\n",
       "      <td>3.26</td>\n",
       "    </tr>\n",
       "    <tr>\n",
       "      <th>140</th>\n",
       "      <td>21.89</td>\n",
       "      <td>6.174</td>\n",
       "      <td>437</td>\n",
       "      <td>21.2</td>\n",
       "      <td>24.16</td>\n",
       "    </tr>\n",
       "    <tr>\n",
       "      <th>428</th>\n",
       "      <td>18.10</td>\n",
       "      <td>6.193</td>\n",
       "      <td>666</td>\n",
       "      <td>20.2</td>\n",
       "      <td>21.52</td>\n",
       "    </tr>\n",
       "  </tbody>\n",
       "</table>\n",
       "<p>102 rows × 5 columns</p>\n",
       "</div>"
      ],
      "text/plain": [
       "     indus     rm  tax  ptratio  lstat\n",
       "198   1.52  7.274  329     12.6   6.62\n",
       "229   6.20  6.552  307     17.4   3.76\n",
       "502  11.93  6.120  273     21.0   9.08\n",
       "31    8.14  6.072  307     21.0  13.04\n",
       "315   9.90  5.705  304     18.4  11.50\n",
       "..     ...    ...  ...      ...    ...\n",
       "166  19.58  7.929  403     14.7   3.70\n",
       "401  18.10  6.343  666     20.2  20.32\n",
       "368  18.10  4.970  666     20.2   3.26\n",
       "140  21.89  6.174  437     21.2  24.16\n",
       "428  18.10  6.193  666     20.2  21.52\n",
       "\n",
       "[102 rows x 5 columns]"
      ]
     },
     "execution_count": 21,
     "metadata": {},
     "output_type": "execute_result"
    }
   ],
   "source": [
    "X_new_test"
   ]
  },
  {
   "cell_type": "code",
   "execution_count": 22,
   "id": "d6baf504",
   "metadata": {},
   "outputs": [],
   "source": [
    "X_train_new=selector.transform(X_train)"
   ]
  },
  {
   "cell_type": "code",
   "execution_count": 23,
   "id": "b0aa7883",
   "metadata": {},
   "outputs": [],
   "source": [
    "X_test_new=selector.transform(X_test)"
   ]
  },
  {
   "cell_type": "code",
   "execution_count": 24,
   "id": "78e57c9a",
   "metadata": {},
   "outputs": [
    {
     "data": {
      "text/plain": [
       "LinearRegression()"
      ]
     },
     "execution_count": 24,
     "metadata": {},
     "output_type": "execute_result"
    }
   ],
   "source": [
    "\n",
    "\n",
    "# fit a linear regression model using selected features\n",
    "model = LinearRegression()\n",
    "model.fit(X_train_new, y_train)"
   ]
  },
  {
   "cell_type": "code",
   "execution_count": 25,
   "id": "f7fa15a1",
   "metadata": {},
   "outputs": [],
   "source": [
    "\n",
    "# make predictions on train and test set\n",
    "y_train_pred = model.predict(X_train_new)\n",
    "y_test_pred = model.predict(X_test_new)"
   ]
  },
  {
   "cell_type": "code",
   "execution_count": 26,
   "id": "550015f6",
   "metadata": {},
   "outputs": [
    {
     "name": "stdout",
     "output_type": "stream",
     "text": [
      "Regression coefficients: [ 3.15109778e-02  4.42272838e+00 -2.92861007e-03 -8.90751219e-01\n",
      " -5.32803009e-01]\n"
     ]
    }
   ],
   "source": [
    "\n",
    "# get the regression coefficients\n",
    "coeffs = model.coef_\n",
    "\n",
    "print(\"Regression coefficients:\", coeffs)"
   ]
  },
  {
   "cell_type": "code",
   "execution_count": 27,
   "id": "b446b0be",
   "metadata": {},
   "outputs": [],
   "source": [
    "import statsmodels.api as sm\n",
    "def model_summary(x,y):\n",
    "    X = sm.add_constant(np.array(df[x]))\n",
    "  \n",
    "    model = sm.OLS(np.array(df[y]), X).fit()\n",
    "    print(model.summary())"
   ]
  },
  {
   "cell_type": "code",
   "execution_count": 28,
   "id": "54bc010f",
   "metadata": {},
   "outputs": [
    {
     "name": "stdout",
     "output_type": "stream",
     "text": [
      "                            OLS Regression Results                            \n",
      "==============================================================================\n",
      "Dep. Variable:                      y   R-squared:                       0.680\n",
      "Model:                            OLS   Adj. R-squared:                  0.677\n",
      "Method:                 Least Squares   F-statistic:                     265.7\n",
      "Date:                Tue, 28 Feb 2023   Prob (F-statistic):          2.45e-122\n",
      "Time:                        09:58:30   Log-Likelihood:                -1552.2\n",
      "No. Observations:                 506   AIC:                             3114.\n",
      "Df Residuals:                     501   BIC:                             3136.\n",
      "Df Model:                           4                                         \n",
      "Covariance Type:            nonrobust                                         \n",
      "==============================================================================\n",
      "                 coef    std err          t      P>|t|      [0.025      0.975]\n",
      "------------------------------------------------------------------------------\n",
      "const         17.6745      3.973      4.449      0.000       9.869      25.480\n",
      "x1             4.5861      0.429     10.685      0.000       3.743       5.429\n",
      "x2            -0.0022      0.002     -1.274      0.203      -0.006       0.001\n",
      "x3            -0.8752      0.125     -6.980      0.000      -1.122      -0.629\n",
      "x4            -0.5451      0.047    -11.567      0.000      -0.638      -0.452\n",
      "==============================================================================\n",
      "Omnibus:                      220.214   Durbin-Watson:                   0.887\n",
      "Prob(Omnibus):                  0.000   Jarque-Bera (JB):             1252.079\n",
      "Skew:                           1.834   Prob(JB):                    1.30e-272\n",
      "Kurtosis:                       9.777   Cond. No.                     7.60e+03\n",
      "==============================================================================\n",
      "\n",
      "Notes:\n",
      "[1] Standard Errors assume that the covariance matrix of the errors is correctly specified.\n",
      "[2] The condition number is large, 7.6e+03. This might indicate that there are\n",
      "strong multicollinearity or other numerical problems.\n"
     ]
    }
   ],
   "source": [
    "model_summary(['rm', 'tax', 'ptratio', 'lstat'],'medv')"
   ]
  },
  {
   "cell_type": "markdown",
   "id": "59ae832c",
   "metadata": {},
   "source": [
    "EVALUATING THE MODEL PERFORMANCE "
   ]
  },
  {
   "cell_type": "code",
   "execution_count": 29,
   "id": "c03138af",
   "metadata": {},
   "outputs": [
    {
     "name": "stdout",
     "output_type": "stream",
     "text": [
      "Train set - R2 score: 0.67, MSE: 26.63\n",
      "Test set - R2 score: 0.70, MSE: 28.77\n"
     ]
    }
   ],
   "source": [
    "\n",
    "# evaluate the model's performance on train and test set\n",
    "print('Train set - R2 score: {:.2f}, MSE: {:.2f}'.format(r2_score(y_train, y_train_pred), \n",
    "                                                         mean_squared_error(y_train, y_train_pred)))\n",
    "print('Test set - R2 score: {:.2f}, MSE: {:.2f}'.format(r2_score(y_test, y_test_pred), \n",
    "                                                        mean_squared_error(y_test, y_test_pred)))"
   ]
  },
  {
   "cell_type": "code",
   "execution_count": 30,
   "id": "18eee214",
   "metadata": {},
   "outputs": [
    {
     "name": "stderr",
     "output_type": "stream",
     "text": [
      "C:\\ANACONDA\\lib\\site-packages\\seaborn\\distributions.py:2619: FutureWarning: `distplot` is a deprecated function and will be removed in a future version. Please adapt your code to use either `displot` (a figure-level function with similar flexibility) or `histplot` (an axes-level function for histograms).\n",
      "  warnings.warn(msg, FutureWarning)\n"
     ]
    },
    {
     "data": {
      "image/png": "[encoded data removed]",
      "text/plain": [
       "<Figure size 640x480 with 1 Axes>"
      ]
     },
     "metadata": {},
     "output_type": "display_data"
    }
   ],
   "source": [
    "import seaborn as sns\n",
    "sns.distplot(df['rm'])\n",
    "plt.show()"
   ]
  },
  {
   "cell_type": "code",
   "execution_count": 31,
   "id": "2ec58077",
   "metadata": {},
   "outputs": [],
   "source": [
    "# Apply log transformation on the target  column\n",
    "df['log_medv'] = np.log(df['medv'])"
   ]
  },
  {
   "cell_type": "code",
   "execution_count": 32,
   "id": "d793266f",
   "metadata": {},
   "outputs": [
    {
     "data": {
      "text/plain": [
       "-0.33032129530987864"
      ]
     },
     "execution_count": 32,
     "metadata": {},
     "output_type": "execute_result"
    }
   ],
   "source": [
    "df['log_medv'].skew()"
   ]
  },
  {
   "cell_type": "code",
   "execution_count": 33,
   "id": "78b58f05",
   "metadata": {},
   "outputs": [
    {
     "name": "stderr",
     "output_type": "stream",
     "text": [
      "C:\\ANACONDA\\lib\\site-packages\\seaborn\\distributions.py:2619: FutureWarning: `distplot` is a deprecated function and will be removed in a future version. Please adapt your code to use either `displot` (a figure-level function with similar flexibility) or `histplot` (an axes-level function for histograms).\n",
      "  warnings.warn(msg, FutureWarning)\n"
     ]
    },
    {
     "data": {
      "image/png": "[encoded data removed]",
      "text/plain": [
       "<Figure size 640x480 with 1 Axes>"
      ]
     },
     "metadata": {},
     "output_type": "display_data"
    }
   ],
   "source": [
    "sns.distplot(df['log_medv'])\n",
    "plt.show()"
   ]
  },
  {
   "cell_type": "code",
   "execution_count": 40,
   "id": "58eed69e",
   "metadata": {},
   "outputs": [],
   "source": [
    "y_new=np.log(y)"
   ]
  },
  {
   "cell_type": "code",
   "execution_count": 41,
   "id": "8bff2143",
   "metadata": {},
   "outputs": [],
   "source": [
    "# train test split based on the logmedv(target variable)\n",
    "x_tr,x_test,y_tr,y_test=train_test_split(X,y_new,test_size=.2,random_state=100)    # here we do train test split after log-transformation\n"
   ]
  },
  {
   "cell_type": "code",
   "execution_count": 42,
   "id": "c6fe63ea",
   "metadata": {},
   "outputs": [],
   "source": [
    "model_log=LinearRegression().fit(x_tr,y_tr)\n",
    "log_fitted=model_log.predict(x_tr)\n"
   ]
  },
  {
   "cell_type": "code",
   "execution_count": 43,
   "id": "a2cbe65a",
   "metadata": {},
   "outputs": [],
   "source": [
    "p_log=model_log.predict(x_test)\n",
    "p_actual=np.exp(p_log)               # here np.exp is the inverse of log-transformation (exponential)"
   ]
  },
  {
   "cell_type": "code",
   "execution_count": 44,
   "id": "b9135fa8",
   "metadata": {},
   "outputs": [
    {
     "data": {
      "text/plain": [
       "0.7875326530065212"
      ]
     },
     "execution_count": 44,
     "metadata": {},
     "output_type": "execute_result"
    }
   ],
   "source": [
    "r2_score(y_tr,log_fitted)          # training accuracy"
   ]
  },
  {
   "cell_type": "code",
   "execution_count": 45,
   "id": "df2ce992",
   "metadata": {},
   "outputs": [
    {
     "data": {
      "text/plain": [
       "0.7840794771166191"
      ]
     },
     "execution_count": 45,
     "metadata": {},
     "output_type": "execute_result"
    }
   ],
   "source": [
    "r2_score(y_test,p_log)            # testing accuracy "
   ]
  },
  {
   "cell_type": "code",
   "execution_count": null,
   "id": "6dac3ee6",
   "metadata": {},
   "outputs": [],
   "source": []
  }
 ],
 "metadata": {
  "kernelspec": {
   "display_name": "Python 3 (ipykernel)",
   "language": "python",
   "name": "python3"
  },
  "language_info": {
   "codemirror_mode": {
    "name": "ipython",
    "version": 3
   },
   "file_extension": ".py",
   "mimetype": "text/x-python",
   "name": "python",
   "nbconvert_exporter": "python",
   "pygments_lexer": "ipython3",
   "version": "3.9.13"
  }
 },
 "nbformat": 4,
 "nbformat_minor": 5
}
